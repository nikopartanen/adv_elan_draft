{
 "cells": [
  {
   "cell_type": "markdown",
   "metadata": {},
   "source": [
    "# Creating new ELAN file"
   ]
  },
  {
   "cell_type": "markdown",
   "metadata": {},
   "source": [
    "One very generic situation is that we have to create new files. Of course it is quite easy to do this, but making tens or hundreds of them can still be tedious. So, for example, I have set up into our Filemaker Pro database a button that writes a new ELAN file for currently selected session. In the end this doesn't need very much information:\n",
    "\n",
    "- Participants\n",
    "- Session name\n",
    "- Tier types\n",
    "- Default tiers\n",
    "- Languages\n",
    "\n",
    "Basically that is it.\n",
    "\n",
    "Below I have defined a function which takes as arguments the session name, speakers and the file's author. It should be easy to read these from a database and automatically write the files into correct folders."
   ]
  },
  {
   "cell_type": "code",
   "execution_count": null,
   "metadata": {
    "collapsed": true
   },
   "outputs": [],
   "source": [
    "import pympi\n",
    "\n",
    "def new_elan_file(session_name = 'descriptive_name', speakers = ['niko', 'rogier', 'micha'], author = 'Niko'):\n",
    "\n",
    "    elan_file = pympi.Elan.Eaf(file_path=None, author=author)\n",
    "\n",
    "    elan_file.add_linguistic_type(lingtype='refT', timealignable=True, graphicreferences=False)\n",
    "    elan_file.add_linguistic_type(lingtype='orthT', timealignable=False, graphicreferences=False, constraints='Symbolic_Association')\n",
    "    elan_file.add_linguistic_type(lingtype='wordT', timealignable=False, graphicreferences=False, constraints='Symbolic_Subdivision')\n",
    "    elan_file.add_linguistic_type(lingtype='posT', timealignable=False, graphicreferences=False, constraints='Symbolic_Subdivision')\n",
    "    elan_file.add_linguistic_type(lingtype='lemmaT', timealignable=False, graphicreferences=False, constraints='Symbolic_Subdivision')\n",
    "    elan_file.add_linguistic_type(lingtype='morphT', timealignable=False, graphicreferences=False, constraints='Symbolic_Subdivision')\n",
    "    elan_file.add_linguistic_type(lingtype='ft-rusT', timealignable=False, graphicreferences=False, constraints='Symbolic_Association')\n",
    "    elan_file.add_linguistic_type(lingtype='ft-engT', timealignable=False, graphicreferences=False, constraints='Symbolic_Association')\n",
    "\n",
    "    elan_file.add_language(lang_def='http://cdb.iso.org/lg/CDB-00131321-001', lang_id='kpv', lang_label='Komi-Zyrian (kpv)')\n",
    "    \n",
    "    for speaker in speakers:\n",
    "        elan_file.add_tier(tier_id='ref@' + speaker, ling='refT')\n",
    "        elan_file.add_tier(tier_id='orth@' + speaker, ling='orthT', parent='ref@' + speaker)\n",
    "        elan_file.add_tier(tier_id='word@' + speaker, ling='wordT', parent='orth@' + speaker, language='kpv')\n",
    "\n",
    "    elan_file.remove_tier(id_tier='default')\n",
    "\n",
    "    elan_file.to_file(file_path = session_name)"
   ]
  },
  {
   "cell_type": "markdown",
   "metadata": {},
   "source": [
    "It can be tested with following commands:"
   ]
  },
  {
   "cell_type": "code",
   "execution_count": null,
   "metadata": {
    "collapsed": true
   },
   "outputs": [],
   "source": [
    "new_elan_file(session_name = 'test1.eaf', speakers = ['s1', 's2', 's3'])\n",
    "new_elan_file(session_name = 'test2.eaf', speakers = ['s3', 's5', 's6'])"
   ]
  },
  {
   "cell_type": "markdown",
   "metadata": {},
   "source": [
    "As in everything, there are numerous points of improvement:\n",
    "\n",
    "- What about the media files? How are they named? Can we know this in advance?\n",
    "- Writing file into specific folders?\n",
    "- Should we add more languages?\n",
    "- What about controlled vocabularies?"
   ]
  },
  {
   "cell_type": "markdown",
   "metadata": {},
   "source": [
    "CC-BY Niko Partanen 2017"
   ]
  },
  {
   "cell_type": "code",
   "execution_count": null,
   "metadata": {
    "collapsed": true
   },
   "outputs": [],
   "source": []
  }
 ],
 "metadata": {
  "kernelspec": {
   "display_name": "Python 3",
   "language": "python",
   "name": "python3"
  },
  "language_info": {
   "codemirror_mode": {
    "name": "ipython",
    "version": 3
   },
   "file_extension": ".py",
   "mimetype": "text/x-python",
   "name": "python",
   "nbconvert_exporter": "python",
   "pygments_lexer": "ipython3",
   "version": "3.6.0"
  }
 },
 "nbformat": 4,
 "nbformat_minor": 2
}
